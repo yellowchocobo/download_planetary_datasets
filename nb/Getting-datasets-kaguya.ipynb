{
 "cells": [
  {
   "cell_type": "code",
   "execution_count": 1,
   "metadata": {},
   "outputs": [],
   "source": [
    "# Python modules\n",
    "import numpy as np\n",
    "from pathlib import Path\n",
    "import pyproj\n",
    "import rasterio as rio\n",
    "import sys\n",
    "\n",
    "# local modules\n",
    "sys.path.append(\"/home/nilscp/GIT/rastertools\")\n",
    "sys.path.append(\"/home/nilscp/GIT/download_planetary_datasets\")\n",
    "\n",
    "import utils\n",
    "from Kaguya import global_imagery_and_DEM"
   ]
  },
  {
   "cell_type": "markdown",
   "metadata": {},
   "source": [
    "### How to download all of the kaguya products for a specific area\n",
    "----\n",
    "A function in `get_links_for_download`, the function `get_main_repo_links`, will fetch all of the strings required to generate the url for download for a specified Kaguya product. A small example of the function is given below. \n",
    "\n",
    "Products available:\n",
    "- product DTM_MAP_01, SLDEM2013 (1x1 degree)\n",
    "- product TCO_MAP_02, visible orthoimages (3x3 degrees)\n",
    "- product TCO_MAPe04, visible evening images (3x3 degrees)\n",
    "- product TCO_MAPm04, visible morning images (3x3 degrees)"
   ]
  },
  {
   "cell_type": "code",
   "execution_count": 2,
   "metadata": {},
   "outputs": [],
   "source": [
    "(default_link, default_link2, degrees_per_latlon) = global_imagery_and_DEM.get_main_repo_links(\"TCO_MAP_02\")"
   ]
  },
  {
   "cell_type": "code",
   "execution_count": 3,
   "metadata": {},
   "outputs": [
    {
     "data": {
      "text/plain": [
       "('http://darts.isas.jaxa.jp/pub/pds3/sln-l-tc-5-ortho-map-v2.0/',\n",
       " '/data/TCO_MAP_02_',\n",
       " 3)"
      ]
     },
     "execution_count": 3,
     "metadata": {},
     "output_type": "execute_result"
    }
   ],
   "source": [
    "default_link, default_link2, degrees_per_latlon"
   ]
  },
  {
   "cell_type": "code",
   "execution_count": 4,
   "metadata": {},
   "outputs": [
    {
     "name": "stdout",
     "output_type": "stream",
     "text": [
      "DONE\n",
      "DONE\n",
      "DONE\n",
      "DONE\n"
     ]
    }
   ],
   "source": [
    "kaguya_products = ['DTM_MAP_01', 'TCO_MAP_02', 'TCO_MAPe04', 'TCO_MAPm04']\n",
    "\n",
    "for products in kaguya_products:\n",
    "\n",
    "    global_imagery_and_DEM.get_links_for_download(output_folder = '/home/nilscp/tmp/test_vrt/' + products + '/', \n",
    "                           product_name = products, \n",
    "                           min_latitude = -3, \n",
    "                           max_latitude = 3, \n",
    "                           min_longitude = 0, \n",
    "                           max_longitude = 3)"
   ]
  },
  {
   "cell_type": "markdown",
   "metadata": {},
   "source": [
    "I need to improve the message printed here.\n",
    "\n",
    "### Download files\n",
    "----\n",
    "Now that the url are saved to a text file, they can be easily downloaded using `wget -c -N -i ./<path_to_text_file>`\n",
    "\n",
    "### Convert .img to .tif files\n",
    "----\n",
    "with the help of the `translate_kaguya.sh` bash script. Note that the wget, the translation and the vrt building could be put in the same bash file.\n",
    "\n",
    "### Build the virtual mosaics (vrt) for each product \n",
    "----\n",
    "by running `gdalbuildvrt <vrt filename> *.tif`\n",
    "\n",
    "### Extract data for an area of interest with a bounding box containing world coordinates (lon/lat)\n",
    "----\n",
    "Note that in this example, we only have data in between 0 and 3 degrees in longitude, and -3 and 3 in latitude. Let's study a crater located at 0.39E and 1.16N (the Bruce impact crater, which is about 6.6 km in size. "
   ]
  },
  {
   "cell_type": "code",
   "execution_count": 5,
   "metadata": {},
   "outputs": [],
   "source": [
    "sldem2013 = Path('/home/nilscp/tmp/test_vrt/DTM_MAP_01/DTM_MAP_01.vrt')\n",
    "TCO_MAP_02 = Path('/home/nilscp/tmp/test_vrt/TCO_MAP_02/TCO_MAP_02.vrt')\n",
    "TCO_MAPe04 = Path('/home/nilscp/tmp/test_vrt/TCO_MAPe04/TCO_MAPe04.vrt')\n",
    "TCO_MAPm04 = Path('/home/nilscp/tmp/test_vrt/TCO_MAPm04/TCO_MAPm04.vrt')\n",
    "\n",
    "template_raster_sldem = Path('/home/nilscp/tmp/test_vrt/DTM_MAP_01/DTM_MAP_01_N00E000S01E001SC.tif')\n",
    "template_raster_tco = Path('/home/nilscp/tmp/test_vrt/TCO_MAP_02/TCO_MAP_02_N00E000S03E003SC.tif')"
   ]
  },
  {
   "cell_type": "markdown",
   "metadata": {},
   "source": [
    "Let's double check that there is no differences in the projection of products"
   ]
  },
  {
   "cell_type": "code",
   "execution_count": 6,
   "metadata": {},
   "outputs": [],
   "source": [
    "with rio.open(sldem2013) as src_sldem2013:\n",
    "    meta_sldem2013 = src_sldem2013.profile\n",
    "    \n",
    "with rio.open(TCO_MAP_02) as src_TCO_MAP_02:\n",
    "    meta_TCO_MAP_02 = src_TCO_MAP_02.profile\n",
    "    \n",
    "with rio.open(TCO_MAPe04) as src_TCO_MAPe04:\n",
    "    meta_TCO_MAPe04 = src_TCO_MAPe04.profile\n",
    "    \n",
    "with rio.open(TCO_MAPm04) as src_TCO_MAPm04:\n",
    "    meta_TCO_MAPm04 = src_TCO_MAPm04.profile"
   ]
  },
  {
   "cell_type": "code",
   "execution_count": 7,
   "metadata": {},
   "outputs": [
    {
     "data": {
      "text/plain": [
       "{'driver': 'VRT', 'dtype': 'int16', 'nodata': -32768.0, 'width': 12288, 'height': 24576, 'count': 1, 'crs': CRS.from_wkt('PROJCS[\"SIMPLE_CYLINDRICAL MOON\",GEOGCS[\"GCS_MOON\",DATUM[\"D_MOON\",SPHEROID[\"MOON\",1737400,0]],PRIMEM[\"Reference_Meridian\",0],UNIT[\"degree\",0.0174532925199433,AUTHORITY[\"EPSG\",\"9122\"]]],PROJECTION[\"Equirectangular\"],PARAMETER[\"standard_parallel_1\",0],PARAMETER[\"central_meridian\",0],PARAMETER[\"false_easting\",0],PARAMETER[\"false_northing\",0],UNIT[\"metre\",1,AUTHORITY[\"EPSG\",\"9001\"]],AXIS[\"Easting\",EAST],AXIS[\"Northing\",NORTH]]'), 'transform': Affine(7.4031617246699, 0.0, -3.70158086233495,\n",
       "       0.0, -7.4031617246699, 90973.75285360607), 'blockxsize': 128, 'blockysize': 128, 'tiled': True}"
      ]
     },
     "execution_count": 7,
     "metadata": {},
     "output_type": "execute_result"
    }
   ],
   "source": [
    "meta_sldem2013"
   ]
  },
  {
   "cell_type": "code",
   "execution_count": 8,
   "metadata": {},
   "outputs": [
    {
     "data": {
      "text/plain": [
       "{'driver': 'VRT', 'dtype': 'uint16', 'nodata': 0.0, 'width': 12288, 'height': 24576, 'count': 1, 'crs': CRS.from_wkt('PROJCS[\"SIMPLE_CYLINDRICAL MOON\",GEOGCS[\"GCS_MOON\",DATUM[\"D_MOON\",SPHEROID[\"MOON\",1737400,0]],PRIMEM[\"Reference_Meridian\",0],UNIT[\"degree\",0.0174532925199433,AUTHORITY[\"EPSG\",\"9122\"]]],PROJECTION[\"Equirectangular\"],PARAMETER[\"standard_parallel_1\",0],PARAMETER[\"central_meridian\",0],PARAMETER[\"false_easting\",0],PARAMETER[\"false_northing\",0],UNIT[\"metre\",1,AUTHORITY[\"EPSG\",\"9001\"]],AXIS[\"Easting\",EAST],AXIS[\"Northing\",NORTH]]'), 'transform': Affine(7.4031617246699, 0.0, -3.70158086233495,\n",
       "       0.0, -7.4031617246699, 90973.75285360607), 'blockxsize': 128, 'blockysize': 128, 'tiled': True}"
      ]
     },
     "execution_count": 8,
     "metadata": {},
     "output_type": "execute_result"
    }
   ],
   "source": [
    "meta_TCO_MAP_02"
   ]
  },
  {
   "cell_type": "code",
   "execution_count": 9,
   "metadata": {},
   "outputs": [
    {
     "data": {
      "text/plain": [
       "True"
      ]
     },
     "execution_count": 9,
     "metadata": {},
     "output_type": "execute_result"
    }
   ],
   "source": [
    "meta_TCO_MAPe04 == meta_TCO_MAP_02 == meta_TCO_MAPm04"
   ]
  },
  {
   "cell_type": "markdown",
   "metadata": {},
   "source": [
    "The tiling is different in `sldem2013`, so that the vrt file is different (but the proj. is the same) "
   ]
  },
  {
   "cell_type": "code",
   "execution_count": 10,
   "metadata": {},
   "outputs": [
    {
     "data": {
      "text/plain": [
       "False"
      ]
     },
     "execution_count": 10,
     "metadata": {},
     "output_type": "execute_result"
    }
   ],
   "source": [
    "meta_sldem2013 == meta_TCO_MAP_02"
   ]
  },
  {
   "cell_type": "code",
   "execution_count": 11,
   "metadata": {},
   "outputs": [
    {
     "data": {
      "text/plain": [
       "True"
      ]
     },
     "execution_count": 11,
     "metadata": {},
     "output_type": "execute_result"
    }
   ],
   "source": [
    "meta_sldem2013['crs'] == meta_TCO_MAP_02['crs']"
   ]
  },
  {
   "cell_type": "markdown",
   "metadata": {},
   "source": [
    "Let's define the template raster for saving the final products for the Bruce impact crater\n",
    "### Specify the bounding box"
   ]
  },
  {
   "cell_type": "code",
   "execution_count": 12,
   "metadata": {},
   "outputs": [
    {
     "data": {
      "text/plain": [
       "[-3032.335042414948,\n",
       " 18194.010254489687,\n",
       " 27291.015381734534,\n",
       " 51549.695721054115]"
      ]
     },
     "execution_count": 12,
     "metadata": {},
     "output_type": "execute_result"
    }
   ],
   "source": [
    "bbox = utils.bbox_world2crs(src_sldem2013, [-0.10, 0.60, 0.90, 1.70]) #xmin, ymin, xmax, ymax\n",
    "bbox"
   ]
  },
  {
   "cell_type": "markdown",
   "metadata": {},
   "source": [
    "### Reading"
   ]
  },
  {
   "cell_type": "code",
   "execution_count": 13,
   "metadata": {},
   "outputs": [],
   "source": [
    "array_sldem2013 = utils.read(sldem2013, bbox)\n",
    "array_TCO_MAP_02 = utils.read(TCO_MAP_02, bbox)\n",
    "array_TCO_MAPe04 = utils.read(TCO_MAPe04, bbox)\n",
    "array_TCO_MAPm04 = utils.read(TCO_MAPm04, bbox)"
   ]
  },
  {
   "cell_type": "code",
   "execution_count": 14,
   "metadata": {},
   "outputs": [
    {
     "data": {
      "text/plain": [
       "((4505, 3686, 1), (4505, 3686, 1), (4505, 3686, 1), (4505, 3686, 1))"
      ]
     },
     "execution_count": 14,
     "metadata": {},
     "output_type": "execute_result"
    }
   ],
   "source": [
    "array_sldem2013.shape, array_TCO_MAP_02.shape, array_TCO_MAPe04.shape, array_TCO_MAPm04.shape"
   ]
  },
  {
   "cell_type": "markdown",
   "metadata": {},
   "source": [
    "### Saving to a raster"
   ]
  },
  {
   "cell_type": "code",
   "execution_count": 15,
   "metadata": {},
   "outputs": [],
   "source": [
    "utils.to_raster(array_sldem2013, template_raster_sldem, bbox, '/home/nilscp/tmp/test_vrt/Bruce_crater/sldem2013.tif')\n",
    "utils.to_raster(array_TCO_MAP_02, template_raster_tco, bbox, '/home/nilscp/tmp/test_vrt/Bruce_crater/TCO_MAP_02.tif')\n",
    "utils.to_raster(array_TCO_MAPe04, template_raster_tco, bbox, '/home/nilscp/tmp/test_vrt/Bruce_crater/TCO_MAPe04.tif')\n",
    "utils.to_raster(array_TCO_MAPm04, template_raster_tco, bbox, '/home/nilscp/tmp/test_vrt/Bruce_crater/TCO_MAPm04.tif')"
   ]
  },
  {
   "cell_type": "markdown",
   "metadata": {},
   "source": [
    "I guess mineralogy data from Lemelin et al. could also be used. **The only problem is that there is a quite a shift differences between JAXA and NASA type of data.** So if possible, I would say that it is better to stick to one another. For very small craters (D < 1 km), LRO NAC is the best. Everything between 1 < D < 15 km, I would say that Kaguya is the best. For craters larger than that (D > 15-30 km), the WAC global 100 m image will do the trick. The only problem is that a very small amount of NAC DTM have been generated, and the process to generate NAC DTM was not that easy a few years ago. It's maybe much easier now. So if DTM data needs to be extracted (for D < 1 km), using Kaguya image is probably advised.    "
   ]
  }
 ],
 "metadata": {
  "kernelspec": {
   "display_name": "Python 3",
   "language": "python",
   "name": "python3"
  },
  "language_info": {
   "codemirror_mode": {
    "name": "ipython",
    "version": 3
   },
   "file_extension": ".py",
   "mimetype": "text/x-python",
   "name": "python",
   "nbconvert_exporter": "python",
   "pygments_lexer": "ipython3",
   "version": "3.8.0"
  }
 },
 "nbformat": 4,
 "nbformat_minor": 4
}
