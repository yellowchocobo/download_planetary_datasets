{
 "cells": [
  {
   "cell_type": "code",
   "execution_count": 1,
   "metadata": {},
   "outputs": [],
   "source": [
    "import sys\n",
    "from pathlib import Path\n",
    "import pandas as pd\n",
    "import geopandas as gpd\n",
    "import fiona\n",
    "import numpy as np\n",
    "\n",
    "sys.path.append(\"/home/nilscp/GIT/download_planetary_datasets\")\n",
    "sys.path.append(\"/home/nilscp/GIT/rastertools/\")"
   ]
  },
  {
   "cell_type": "code",
   "execution_count": 2,
   "metadata": {},
   "outputs": [],
   "source": [
    "from LRO import NAC\n",
    "import generalutils"
   ]
  },
  {
   "cell_type": "markdown",
   "metadata": {},
   "source": [
    "### Example in how to select data for Linne\n",
    "Linne's coordinates: 27.7°N 11.8°E\n",
    "\n",
    "#### Selection of the correct footprint geopackage"
   ]
  },
  {
   "cell_type": "code",
   "execution_count": 3,
   "metadata": {},
   "outputs": [
    {
     "data": {
      "text/plain": [
       "PosixPath('/home/nilscp/Downloads/NAC_footprints/NAC_footprints_EQ360.gpkg')"
      ]
     },
     "execution_count": 3,
     "metadata": {},
     "output_type": "execute_result"
    }
   ],
   "source": [
    "NAC.select_geopackage(range_latitude = (27.5, 27.9))"
   ]
  },
  {
   "cell_type": "code",
   "execution_count": 4,
   "metadata": {},
   "outputs": [],
   "source": [
    "footprints_gpkg = NAC.select_geopackage(range_latitude = (27.5, 27.9))"
   ]
  },
  {
   "cell_type": "markdown",
   "metadata": {},
   "source": [
    "The previously printed geopackage contains several layers from different time periods during the mission. We are interested in all footprints, so we would like to load all of the layers into one GeoDataFrame. Let's first print all of the layers in the geopackage. "
   ]
  },
  {
   "cell_type": "code",
   "execution_count": 5,
   "metadata": {},
   "outputs": [
    {
     "data": {
      "text/plain": [
       "['NAC_EQ_FOURTH_EXTENDED_SCIENCE_MISSION_360',\n",
       " 'NAC_EQ_THIRD_EXTENDED_SCIENCE_MISSION_360',\n",
       " 'NAC_EQ_NOMINAL_MISSION_360',\n",
       " 'NAC_EQ_SECOND_EXTENDED_SCIENCE_MISSION_360',\n",
       " 'NAC_EQ_SCIENCE_MISSION_360',\n",
       " 'NAC_EQ_EXTENDED_SCIENCE_MISSION_360',\n",
       " 'NAC_EQ_COMMISSIONING_360']"
      ]
     },
     "execution_count": 5,
     "metadata": {},
     "output_type": "execute_result"
    }
   ],
   "source": [
    "generalutils.listLayers(footprints_gpkg)"
   ]
  },
  {
   "cell_type": "markdown",
   "metadata": {},
   "source": [
    "Load of all the available footprints for the selected parameters (`range_latitude`, `range_longitude`, `range_incidence`, `range_emission`, `range_phase`)"
   ]
  },
  {
   "cell_type": "code",
   "execution_count": 6,
   "metadata": {},
   "outputs": [],
   "source": [
    "gdf = NAC.select_footprints(footprints_gpkg,\n",
    "                            range_latitude = (27.5, 27.9),\n",
    "                            range_longitude = (11.6,12.0))"
   ]
  },
  {
   "cell_type": "code",
   "execution_count": 7,
   "metadata": {},
   "outputs": [
    {
     "data": {
      "text/plain": [
       "(19, 83)"
      ]
     },
     "execution_count": 7,
     "metadata": {},
     "output_type": "execute_result"
    }
   ],
   "source": [
    "gdf.shape"
   ]
  },
  {
   "cell_type": "code",
   "execution_count": 8,
   "metadata": {},
   "outputs": [
    {
     "data": {
      "text/html": [
       "<div>\n",
       "<style scoped>\n",
       "    .dataframe tbody tr th:only-of-type {\n",
       "        vertical-align: middle;\n",
       "    }\n",
       "\n",
       "    .dataframe tbody tr th {\n",
       "        vertical-align: top;\n",
       "    }\n",
       "\n",
       "    .dataframe thead th {\n",
       "        text-align: right;\n",
       "    }\n",
       "</style>\n",
       "<table border=\"1\" class=\"dataframe\">\n",
       "  <thead>\n",
       "    <tr style=\"text-align: right;\">\n",
       "      <th></th>\n",
       "      <th>pds_volume</th>\n",
       "      <th>product_id</th>\n",
       "      <th>file_speci</th>\n",
       "      <th>url</th>\n",
       "      <th>orig</th>\n",
       "      <th>prod_versn</th>\n",
       "      <th>targt_name</th>\n",
       "      <th>orbit_num</th>\n",
       "      <th>slew_angle</th>\n",
       "      <th>mission_ph</th>\n",
       "      <th>...</th>\n",
       "      <th>lorght_lon</th>\n",
       "      <th>loleft_lat</th>\n",
       "      <th>loleft_lon</th>\n",
       "      <th>upleft_lat</th>\n",
       "      <th>upleft_lon</th>\n",
       "      <th>scraft_alt</th>\n",
       "      <th>targt_cntr</th>\n",
       "      <th>node_cross</th>\n",
       "      <th>flight_dir</th>\n",
       "      <th>geometry</th>\n",
       "    </tr>\n",
       "  </thead>\n",
       "  <tbody>\n",
       "    <tr>\n",
       "      <th>0</th>\n",
       "      <td>LROLRC_0039C</td>\n",
       "      <td>M1312938198LE</td>\n",
       "      <td>LRO-L-LROC-2-EDR-V1.0/LROLRC_0039C/DATA/ESM3/2...</td>\n",
       "      <td>http://wms.lroc.asu.edu/lroc/view_lroc/LRO-L-L...</td>\n",
       "      <td>nacl0020e1ae</td>\n",
       "      <td>v1.8</td>\n",
       "      <td>MOON</td>\n",
       "      <td>44594</td>\n",
       "      <td>0.008107</td>\n",
       "      <td>THIRD EXTENDED SCIENCE MISSION</td>\n",
       "      <td>...</td>\n",
       "      <td>11.802694</td>\n",
       "      <td>27.411236</td>\n",
       "      <td>11.651114</td>\n",
       "      <td>28.185234</td>\n",
       "      <td>11.592452</td>\n",
       "      <td>81.348168</td>\n",
       "      <td>1818.695117</td>\n",
       "      <td>A</td>\n",
       "      <td>-X</td>\n",
       "      <td>MULTIPOLYGON (((11.59245 28.18523, 11.74606 28...</td>\n",
       "    </tr>\n",
       "    <tr>\n",
       "      <th>1</th>\n",
       "      <td>LROLRC_0039C</td>\n",
       "      <td>M1312938198RE</td>\n",
       "      <td>LRO-L-LROC-2-EDR-V1.0/LROLRC_0039C/DATA/ESM3/2...</td>\n",
       "      <td>http://wms.lroc.asu.edu/lroc/view_lroc/LRO-L-L...</td>\n",
       "      <td>nacr0020e1ae</td>\n",
       "      <td>v1.8</td>\n",
       "      <td>MOON</td>\n",
       "      <td>44594</td>\n",
       "      <td>0.008107</td>\n",
       "      <td>THIRD EXTENDED SCIENCE MISSION</td>\n",
       "      <td>...</td>\n",
       "      <td>11.948150</td>\n",
       "      <td>27.423627</td>\n",
       "      <td>11.797099</td>\n",
       "      <td>28.197769</td>\n",
       "      <td>11.740392</td>\n",
       "      <td>81.348168</td>\n",
       "      <td>1818.695117</td>\n",
       "      <td>A</td>\n",
       "      <td>-X</td>\n",
       "      <td>MULTIPOLYGON (((11.74039 28.19777, 11.89347 28...</td>\n",
       "    </tr>\n",
       "    <tr>\n",
       "      <th>2</th>\n",
       "      <td>LROLRC_0002</td>\n",
       "      <td>M122129845RE</td>\n",
       "      <td>LRO-L-LROC-2-EDR-V1.0/LROLRC_0002/DATA/MAP/201...</td>\n",
       "      <td>http://wms.lroc.asu.edu/lroc/view_lroc/LRO-L-L...</td>\n",
       "      <td>nacr000249a0</td>\n",
       "      <td>v1.8</td>\n",
       "      <td>MOON</td>\n",
       "      <td>3132</td>\n",
       "      <td>5.789532</td>\n",
       "      <td>NOMINAL MISSION</td>\n",
       "      <td>...</td>\n",
       "      <td>11.874264</td>\n",
       "      <td>28.211018</td>\n",
       "      <td>11.795035</td>\n",
       "      <td>27.261819</td>\n",
       "      <td>11.810061</td>\n",
       "      <td>41.863406</td>\n",
       "      <td>1779.189675</td>\n",
       "      <td>A</td>\n",
       "      <td>+X</td>\n",
       "      <td>MULTIPOLYGON (((11.81006 27.26182, 11.79504 28...</td>\n",
       "    </tr>\n",
       "    <tr>\n",
       "      <th>3</th>\n",
       "      <td>LROLRC_0002</td>\n",
       "      <td>M122129845LE</td>\n",
       "      <td>LRO-L-LROC-2-EDR-V1.0/LROLRC_0002/DATA/MAP/201...</td>\n",
       "      <td>http://wms.lroc.asu.edu/lroc/view_lroc/LRO-L-L...</td>\n",
       "      <td>nacl000249a0</td>\n",
       "      <td>v1.8</td>\n",
       "      <td>MOON</td>\n",
       "      <td>3132</td>\n",
       "      <td>5.789532</td>\n",
       "      <td>NOMINAL MISSION</td>\n",
       "      <td>...</td>\n",
       "      <td>11.797859</td>\n",
       "      <td>28.208441</td>\n",
       "      <td>11.717553</td>\n",
       "      <td>27.259253</td>\n",
       "      <td>11.733240</td>\n",
       "      <td>41.863406</td>\n",
       "      <td>1779.189675</td>\n",
       "      <td>A</td>\n",
       "      <td>+X</td>\n",
       "      <td>MULTIPOLYGON (((11.73324 27.25925, 11.71755 28...</td>\n",
       "    </tr>\n",
       "    <tr>\n",
       "      <th>4</th>\n",
       "      <td>LROLRC_0003</td>\n",
       "      <td>M124491554LE</td>\n",
       "      <td>LRO-L-LROC-2-EDR-V1.0/LROLRC_0003/DATA/MAP/201...</td>\n",
       "      <td>http://wms.lroc.asu.edu/lroc/view_lroc/LRO-L-L...</td>\n",
       "      <td>nacl00028f15</td>\n",
       "      <td>v1.8</td>\n",
       "      <td>MOON</td>\n",
       "      <td>3480</td>\n",
       "      <td>-2.008828</td>\n",
       "      <td>NOMINAL MISSION</td>\n",
       "      <td>...</td>\n",
       "      <td>11.684726</td>\n",
       "      <td>28.353204</td>\n",
       "      <td>11.604276</td>\n",
       "      <td>27.404732</td>\n",
       "      <td>11.617072</td>\n",
       "      <td>42.619269</td>\n",
       "      <td>1780.016938</td>\n",
       "      <td>A</td>\n",
       "      <td>+X</td>\n",
       "      <td>MULTIPOLYGON (((11.61707 27.40473, 11.60428 28...</td>\n",
       "    </tr>\n",
       "  </tbody>\n",
       "</table>\n",
       "<p>5 rows × 83 columns</p>\n",
       "</div>"
      ],
      "text/plain": [
       "     pds_volume     product_id  \\\n",
       "0  LROLRC_0039C  M1312938198LE   \n",
       "1  LROLRC_0039C  M1312938198RE   \n",
       "2   LROLRC_0002   M122129845RE   \n",
       "3   LROLRC_0002   M122129845LE   \n",
       "4   LROLRC_0003   M124491554LE   \n",
       "\n",
       "                                          file_speci  \\\n",
       "0  LRO-L-LROC-2-EDR-V1.0/LROLRC_0039C/DATA/ESM3/2...   \n",
       "1  LRO-L-LROC-2-EDR-V1.0/LROLRC_0039C/DATA/ESM3/2...   \n",
       "2  LRO-L-LROC-2-EDR-V1.0/LROLRC_0002/DATA/MAP/201...   \n",
       "3  LRO-L-LROC-2-EDR-V1.0/LROLRC_0002/DATA/MAP/201...   \n",
       "4  LRO-L-LROC-2-EDR-V1.0/LROLRC_0003/DATA/MAP/201...   \n",
       "\n",
       "                                                 url          orig prod_versn  \\\n",
       "0  http://wms.lroc.asu.edu/lroc/view_lroc/LRO-L-L...  nacl0020e1ae       v1.8   \n",
       "1  http://wms.lroc.asu.edu/lroc/view_lroc/LRO-L-L...  nacr0020e1ae       v1.8   \n",
       "2  http://wms.lroc.asu.edu/lroc/view_lroc/LRO-L-L...  nacr000249a0       v1.8   \n",
       "3  http://wms.lroc.asu.edu/lroc/view_lroc/LRO-L-L...  nacl000249a0       v1.8   \n",
       "4  http://wms.lroc.asu.edu/lroc/view_lroc/LRO-L-L...  nacl00028f15       v1.8   \n",
       "\n",
       "  targt_name  orbit_num  slew_angle                      mission_ph  ...  \\\n",
       "0       MOON      44594    0.008107  THIRD EXTENDED SCIENCE MISSION  ...   \n",
       "1       MOON      44594    0.008107  THIRD EXTENDED SCIENCE MISSION  ...   \n",
       "2       MOON       3132    5.789532                 NOMINAL MISSION  ...   \n",
       "3       MOON       3132    5.789532                 NOMINAL MISSION  ...   \n",
       "4       MOON       3480   -2.008828                 NOMINAL MISSION  ...   \n",
       "\n",
       "  lorght_lon  loleft_lat loleft_lon upleft_lat upleft_lon  scraft_alt  \\\n",
       "0  11.802694   27.411236  11.651114  28.185234  11.592452   81.348168   \n",
       "1  11.948150   27.423627  11.797099  28.197769  11.740392   81.348168   \n",
       "2  11.874264   28.211018  11.795035  27.261819  11.810061   41.863406   \n",
       "3  11.797859   28.208441  11.717553  27.259253  11.733240   41.863406   \n",
       "4  11.684726   28.353204  11.604276  27.404732  11.617072   42.619269   \n",
       "\n",
       "    targt_cntr node_cross flight_dir  \\\n",
       "0  1818.695117          A         -X   \n",
       "1  1818.695117          A         -X   \n",
       "2  1779.189675          A         +X   \n",
       "3  1779.189675          A         +X   \n",
       "4  1780.016938          A         +X   \n",
       "\n",
       "                                            geometry  \n",
       "0  MULTIPOLYGON (((11.59245 28.18523, 11.74606 28...  \n",
       "1  MULTIPOLYGON (((11.74039 28.19777, 11.89347 28...  \n",
       "2  MULTIPOLYGON (((11.81006 27.26182, 11.79504 28...  \n",
       "3  MULTIPOLYGON (((11.73324 27.25925, 11.71755 28...  \n",
       "4  MULTIPOLYGON (((11.61707 27.40473, 11.60428 28...  \n",
       "\n",
       "[5 rows x 83 columns]"
      ]
     },
     "execution_count": 8,
     "metadata": {},
     "output_type": "execute_result"
    }
   ],
   "source": [
    "gdf.head()"
   ]
  },
  {
   "cell_type": "code",
   "execution_count": 9,
   "metadata": {},
   "outputs": [
    {
     "data": {
      "text/plain": [
       "Index(['pds_volume', 'product_id', 'file_speci', 'url', 'orig', 'prod_versn',\n",
       "       'targt_name', 'orbit_num', 'slew_angle', 'mission_ph', 'rationale',\n",
       "       'data_quali', 'nac_prerol', 'start_time', 'stop_time', 'sclk_part',\n",
       "       'nacrollcnt', 'sclk_stcnt', 'sclk_spcnt', 'sclk_stsec', 'sclk_sttck',\n",
       "       'sclk_spsec', 'sclk_sptck', 'naclinexp', 'wac_exp', 'nac_frm_id',\n",
       "       'nacdacrest', 'nac_chnl_a', 'nac_chnl_b', 'instmodecd', 'wac_modeid',\n",
       "       'wacbandcod', 'wacbkgdoff', 'wac_filter', 'wac_numfrm', 'wacinfrtim',\n",
       "       'wacinfrcod', 'wacmodepol', 'compnd_cod', 'mode_compr', 'mode_test',\n",
       "       'nactmpscs', 'nactmpfpa', 'nactmpfpga', 'nactmptel', 'wacbtmpscs',\n",
       "       'wacmtmpscs', 'wacetmpscs', 'wacbtmpfpa', 'wacmtmpfpa', 'wacetmpfpa',\n",
       "       'image_line', 'line_sampl', 'sample_bit', 'scalepixwd', 'scalepixht',\n",
       "       'resolution', 'emssn_ang', 'inc_angle', 'phase_angl', 'north_azim',\n",
       "       'subsolazim', 'subsollat', 'subsollon', 'subscftlat', 'subscftlon',\n",
       "       'solar_dist', 'solar_long', 'center_lat', 'center_lon', 'uprght_lat',\n",
       "       'uprght_lon', 'lorght_lat', 'lorght_lon', 'loleft_lat', 'loleft_lon',\n",
       "       'upleft_lat', 'upleft_lon', 'scraft_alt', 'targt_cntr', 'node_cross',\n",
       "       'flight_dir', 'geometry'],\n",
       "      dtype='object')"
      ]
     },
     "execution_count": 9,
     "metadata": {},
     "output_type": "execute_result"
    }
   ],
   "source": [
    "gdf.columns"
   ]
  },
  {
   "cell_type": "code",
   "execution_count": 10,
   "metadata": {},
   "outputs": [],
   "source": [
    "NAC.get_url_for_download(footprints_gpkg.with_name('test.csv'), gdf)"
   ]
  },
  {
   "cell_type": "markdown",
   "metadata": {},
   "source": [
    "### Download the NAC images"
   ]
  },
  {
   "cell_type": "code",
   "execution_count": 15,
   "metadata": {},
   "outputs": [],
   "source": [
    "#NAC.download(footprints_gpkg.with_name('test.csv'))"
   ]
  },
  {
   "cell_type": "markdown",
   "metadata": {},
   "source": [
    "### Need to process the data (in order to do that ISIS3 and gdal need to be installed)\n",
    "Or develop the code so that it can be run from wessel.uio.no"
   ]
  },
  {
   "cell_type": "code",
   "execution_count": null,
   "metadata": {},
   "outputs": [],
   "source": []
  }
 ],
 "metadata": {
  "kernelspec": {
   "display_name": "Python 3",
   "language": "python",
   "name": "python3"
  },
  "language_info": {
   "codemirror_mode": {
    "name": "ipython",
    "version": 3
   },
   "file_extension": ".py",
   "mimetype": "text/x-python",
   "name": "python",
   "nbconvert_exporter": "python",
   "pygments_lexer": "ipython3",
   "version": "3.7.6"
  }
 },
 "nbformat": 4,
 "nbformat_minor": 4
}
